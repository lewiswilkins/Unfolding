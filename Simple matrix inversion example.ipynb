{
 "cells": [
  {
   "cell_type": "code",
   "execution_count": 2,
   "metadata": {},
   "outputs": [],
   "source": [
    "import numpy as np\n",
    "import matplotlib.pyplot as plt\n",
    "from helpers import plot_hist, folding, unfold, percentage_difference"
   ]
  },
  {
   "cell_type": "markdown",
   "metadata": {},
   "source": [
    "We set up a toy example with similar values to the 8 TeV analysis. We define a truth based on the slides from Adele, and create a reco by folding this truth with the given matrix, eff, and acc. \n",
    "\n",
    "Then we create some pseudo data using poission varied reco. \n",
    "\n",
    "Finally the pseudo data is unfolded and compared to the original truth distribution."
   ]
  },
  {
   "cell_type": "code",
   "execution_count": 14,
   "metadata": {},
   "outputs": [
    {
     "name": "stdout",
     "output_type": "stream",
     "text": [
      "Percentage differnce between truth and unfolded per bin:\n",
      "[1.4444444444444382, -11.255555555555532, -0.56933333333334302, -1.3333333333333393]\n"
     ]
    }
   ],
   "source": [
    "M_nominal = np.array([[0.80, 0.00, 0.00, 0.20],\n",
    "                      [0.00, 0.80, 0.20, 0.00],\n",
    "                      [0.00, 0.20, 0.80, 0.00],\n",
    "                      [0.20, 0.00, 0.00, 0.80]])\n",
    "efficiency = [0.3, 0.3, 0.3, 0.3]\n",
    "acceptance = [0.64, 0.69, 0.64, 0.69]\n",
    "truth = [1200, 1200, 2500, 2500]\n",
    "reco = folding(truth, M_nominal, efficiency, acceptance)\n",
    "data = np.random.poisson(reco)\n",
    "M_inv = np.linalg.inv(M_nominal)\n",
    "\n",
    "\n",
    "\n",
    "unfolded = unfold(data, M_nominal, acceptance, efficiency)\n",
    "\n",
    "print(\"Percentage differnce between truth and unfolded per bin:\")\n",
    "print(percentage_difference(truth, unfolded))"
   ]
  },
  {
   "cell_type": "markdown",
   "metadata": {},
   "source": [
    "What we see is even with an 80% diagonal migration matrix, there is considerable variation from the truth. This is because we need to use a regularised unfolding method which will dampen the statistical fluctuations. "
   ]
  }
 ],
 "metadata": {
  "kernelspec": {
   "display_name": "Python 3",
   "language": "python",
   "name": "python3"
  },
  "language_info": {
   "codemirror_mode": {
    "name": "ipython",
    "version": 3
   },
   "file_extension": ".py",
   "mimetype": "text/x-python",
   "name": "python",
   "nbconvert_exporter": "python",
   "pygments_lexer": "ipython3",
   "version": "3.6.2"
  }
 },
 "nbformat": 4,
 "nbformat_minor": 2
}
