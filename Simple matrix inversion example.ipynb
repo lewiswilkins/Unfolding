{
 "cells": [
  {
   "cell_type": "code",
   "execution_count": 2,
   "metadata": {},
   "outputs": [],
   "source": [
    "import numpy as np\n",
    "import matplotlib.pyplot as plt\n",
    "from helpers import plot_hist, folding, unfold, percentage_difference"
   ]
  },
  {
   "cell_type": "markdown",
   "metadata": {},
   "source": [
    "We set up a toy example with similar values to the 8 TeV analysis. We define a truth based on the slides from Adele, and create a reco by folding this truth with the given matrix, eff, and acc. \n",
    "\n",
    "Then we create some pseudo data using poission varied reco. \n",
    "\n",
    "Finally the pseudo data is unfolded and compared to the original truth distribution."
   ]
  },
  {
   "cell_type": "code",
   "execution_count": 29,
   "metadata": {},
   "outputs": [
    {
     "name": "stdout",
     "output_type": "stream",
     "text": [
      "Reco = [6843.75, 6347.826086956522, 10500.0, 9739.1304347826099] \n",
      "Data = [ 6882  6457 10484  9874] \n",
      "Percentage differnce between truth and unfolded per bin:\n",
      "[-0.044999999999981811, -2.8848148148148085, 0.51684444444444666, -1.5456000000000059]\n"
     ]
    }
   ],
   "source": [
    "M_nominal = np.array([[0.80, 0.00, 0.00, 0.20],\n",
    "                      [0.00, 0.80, 0.20, 0.00],\n",
    "                      [0.00, 0.20, 0.80, 0.00],\n",
    "                      [0.20, 0.00, 0.00, 0.80]])\n",
    "efficiency = [0.3, 0.3, 0.3, 0.3]\n",
    "acceptance = [0.64, 0.69, 0.64, 0.69]\n",
    "truth = [12000, 12000, 25000, 25000]\n",
    "reco = folding(truth, M_nominal, efficiency, acceptance)\n",
    "data = np.random.poisson(reco)\n",
    "M_inv = np.linalg.inv(M_nominal)\n",
    "\n",
    "print(\"Reco = %s \" % str(reco))\n",
    "print(\"Data = %s \" % str(data))\n",
    "\n",
    "unfolded = unfold(data, M_nominal, acceptance, efficiency)\n",
    "\n",
    "print(\"Percentage differnce between truth and unfolded per bin:\")\n",
    "print(percentage_difference(truth, unfolded))"
   ]
  },
  {
   "cell_type": "markdown",
   "metadata": {},
   "source": [
    "What we see is even with an 80% diagonal migration matrix, there is considerable variation from the truth. This is because we need to use a regularised unfolding method which will dampen the statistical fluctuations. The variation can be seen by re running the notebook and seeing how the variation of data will change the result."
   ]
  }
 ],
 "metadata": {
  "kernelspec": {
   "display_name": "Python 3",
   "language": "python",
   "name": "python3"
  },
  "language_info": {
   "codemirror_mode": {
    "name": "ipython",
    "version": 3
   },
   "file_extension": ".py",
   "mimetype": "text/x-python",
   "name": "python",
   "nbconvert_exporter": "python",
   "pygments_lexer": "ipython3",
   "version": "3.6.2"
  }
 },
 "nbformat": 4,
 "nbformat_minor": 2
}
