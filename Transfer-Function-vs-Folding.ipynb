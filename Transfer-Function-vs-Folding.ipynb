{
 "cells": [
  {
   "cell_type": "code",
   "execution_count": 53,
   "metadata": {
    "collapsed": false,
    "nbpresent": {
     "id": "6ed7eeb2-9b47-4eaa-adf0-feca84173349"
    }
   },
   "outputs": [],
   "source": [
    "import numpy as np\n",
    "import matplotlib.pyplot as plt\n",
    "from helpers import plot_hist\n",
    "\n",
    "def percentage_differnce(a, b):\n",
    "    return ((a-b)/a)*100"
   ]
  },
  {
   "cell_type": "markdown",
   "metadata": {
    "nbpresent": {
     "id": "0ce2fb58-771f-414f-8577-12f88e82648a"
    }
   },
   "source": [
    "Transfer function vs Folding - simple 2 bin example\n",
    "----------------------------------------------------\n",
    "\n",
    "We will work through a simple 2 bin example and look at whether using a transfer function or full folding gives a more \"*correct*\" answer.\n",
    "\n",
    "##### Question: \n",
    "We have a **system 1** where we have a `reco_1`, `truth_1`, migration matrix `M_1` and a transfer function `TF_1`.\n",
    "\n",
    "We then have a second system, **system 2**, again with `reco_2`, `truth_2`, migration matrix `M_2` and a transfer function `TF_2`.\n",
    "\n",
    "We want to know if we can use the `M_1` and `TF_1` from **system 1** to get the correct `reco_2` from `truth_2`\n",
    "\n",
    "First we will look at two simple cases: `M_1=M_2` and `M_1!=M_2`\n"
   ]
  },
  {
   "cell_type": "markdown",
   "metadata": {
    "collapsed": true,
    "nbpresent": {
     "id": "4ae45283-a8b2-46e7-aed6-9ab98aaeebf5"
    }
   },
   "source": [
    "`M_1 = M_2`\n",
    "----------------------------------------------------"
   ]
  },
  {
   "cell_type": "code",
   "execution_count": 72,
   "metadata": {
    "collapsed": false,
    "nbpresent": {
     "id": "e05cd021-9ef2-4c09-bdbb-a692f0e7e455"
    },
    "scrolled": true
   },
   "outputs": [
    {
     "name": "stdout",
     "output_type": "stream",
     "text": [
      "Our truth_1 = [50 20] and our reco_1 = [ 44.  26.]\n",
      "The migration matrix M_1 = \n",
      "[[ 0.8  0.2]\n",
      " [ 0.2  0.8]]\n",
      "The transfer function TF_1 = [ 0.88  1.3 ]\n"
     ]
    }
   ],
   "source": [
    "truth_1 = np.array([50, 20])\n",
    "M_1 = np.array([[0.8, 0.2],\n",
    "                [0.2, 0.8]])\n",
    "reco_1 = np.matmul(M_1, truth_1)\n",
    "TF_1 = reco_1/truth_1\n",
    "print(\"Our truth_1 = %s and our reco_1 = %s\" % (str(truth_1), str(reco_1)))\n",
    "print(\"The migration matrix M_1 = \")\n",
    "print(np.matrix(M_1))\n",
    "print(\"The transfer function TF_1 = %s\" % str(TF_1))"
   ]
  },
  {
   "cell_type": "code",
   "execution_count": 73,
   "metadata": {
    "collapsed": false,
    "nbpresent": {
     "id": "5f45eb6e-d359-48fe-82a9-17dc77275999"
    }
   },
   "outputs": [
    {
     "name": "stdout",
     "output_type": "stream",
     "text": [
      "Our truth_2 = [45 25] and our reco_2 = [ 41.  29.]\n",
      "The migration matrix M_2 = \n",
      "[[ 0.8  0.2]\n",
      " [ 0.2  0.8]]\n",
      "The transfer function TF_2 = [ 0.91111111  1.16      ]\n"
     ]
    }
   ],
   "source": [
    "truth_2 = np.array([45, 25])\n",
    "M_2 = M_1\n",
    "reco_2 = np.matmul(M_2, truth_2)\n",
    "TF_2 = reco_2/truth_2\n",
    "print(\"Our truth_2 = %s and our reco_2 = %s\" % (str(truth_2), str(reco_2)))\n",
    "print(\"The migration matrix M_2 = \")\n",
    "print(np.matrix(M_2))\n",
    "print(\"The transfer function TF_2 = %s\" % str(TF_2))"
   ]
  },
  {
   "cell_type": "markdown",
   "metadata": {
    "nbpresent": {
     "id": "dc6d968c-81dc-4563-9b3e-9a472141c091"
    }
   },
   "source": [
    "##### If we now apply `M_1` and `TF_1` to `truth_2`, which method is closest the the actual `reco_2`?"
   ]
  },
  {
   "cell_type": "code",
   "execution_count": 74,
   "metadata": {
    "collapsed": false,
    "nbpresent": {
     "id": "4f2e5cdf-2d3f-4379-8357-f7db28e74324"
    }
   },
   "outputs": [
    {
     "name": "stdout",
     "output_type": "stream",
     "text": [
      "[ 39.6  32.5]\n",
      "Difference between folded and actual reco_2 = [ 0.  0.] %\n",
      "Difference between transfer function and actual reco_2 = [  3.41463415 -12.06896552] %\n"
     ]
    }
   ],
   "source": [
    "reco_2_folded = np.matmul(M_1, truth_2)\n",
    "reco_2_transfer = truth_2 * TF_1\n",
    "print(reco_2_transfer)\n",
    "print(\"Difference between folded and actual reco_2 = %s %%\" % str(percentage_differnce(reco_2, reco_2_folded)))\n",
    "print(\"Difference between transfer function and actual reco_2 = %s %%\" % str(percentage_differnce(reco_2, reco_2_transfer)))\n",
    "reco_2_folded_80 = reco_2_folded\n",
    "reco_2_transfer_80  = reco_2_transfer"
   ]
  },
  {
   "cell_type": "markdown",
   "metadata": {
    "nbpresent": {
     "id": "ac948dda-36a8-4571-a988-d1c0b11e4840"
    }
   },
   "source": [
    "With both migration matricies being equal, as expected the folding method gives exact closure. The transfer function however gives quite a different result. This would suggest that if the migration matrix of the two systems are the same, the folding method will be more accurate.\n",
    "\n",
    "If we now look at how this changes with the diagonality of the migration matrix.\n",
    "\n",
    "##### 70% diagonal"
   ]
  },
  {
   "cell_type": "code",
   "execution_count": 75,
   "metadata": {
    "collapsed": false,
    "nbpresent": {
     "id": "ed5d4aca-d1c6-43ea-9178-ec6279dd9419"
    }
   },
   "outputs": [
    {
     "name": "stdout",
     "output_type": "stream",
     "text": [
      "Our truth_1 = [50 20] and our reco_1 = [ 41.  29.]\n",
      "The migration matrix M_1 = \n",
      "[[ 0.7  0.3]\n",
      " [ 0.3  0.7]]\n",
      "The transfer function TF_1 = [ 0.82  1.45]\n",
      "Our truth_2 = [45 25] and our reco_2 = [ 39.  31.]\n",
      "The migration matrix M_2 = \n",
      "[[ 0.7  0.3]\n",
      " [ 0.3  0.7]]\n",
      "The transfer function TF_2 = [ 0.86666667  1.24      ]\n",
      "[ 36.9   36.25]\n",
      "Difference between folded and actual reco_2 = [ 0.  0.] %\n",
      "Difference between transfer function and actual reco_2 = [  5.38461538 -16.93548387] %\n"
     ]
    }
   ],
   "source": [
    "# system_1\n",
    "M_1 = np.array([[0.7, 0.3],\n",
    "                [0.3, 0.7]])\n",
    "reco_1 = np.matmul(M_1, truth_1)\n",
    "TF_1 = reco_1/truth_1\n",
    "print(\"Our truth_1 = %s and our reco_1 = %s\" % (str(truth_1), str(reco_1)))\n",
    "print(\"The migration matrix M_1 = \")\n",
    "print(np.matrix(M_1))\n",
    "print(\"The transfer function TF_1 = %s\" % str(TF_1))\n",
    "# system_2\n",
    "truth_2 = np.array([45, 25])\n",
    "M_2 = M_1\n",
    "reco_2 = np.matmul(M_2, truth_2)\n",
    "TF_2 = reco_2/truth_2\n",
    "print(\"Our truth_2 = %s and our reco_2 = %s\" % (str(truth_2), str(reco_2)))\n",
    "print(\"The migration matrix M_2 = \")\n",
    "print(np.matrix(M_2))\n",
    "print(\"The transfer function TF_2 = %s\" % str(TF_2))\n",
    "# compare\n",
    "reco_2_folded = np.matmul(M_1, truth_2)\n",
    "reco_2_transfer = truth_2 * TF_1\n",
    "print(reco_2_transfer)\n",
    "print(\"Difference between folded and actual reco_2 = %s %%\" % str(percentage_differnce(reco_2, reco_2_folded)))\n",
    "print(\"Difference between transfer function and actual reco_2 = %s %%\" % str(percentage_differnce(reco_2, reco_2_transfer)))\n",
    "reco_2_folded_70 = reco_2_folded\n",
    "reco_2_transfer_70  = reco_2_transfer"
   ]
  },
  {
   "cell_type": "markdown",
   "metadata": {
    "nbpresent": {
     "id": "927cd1df-dbee-46d5-be5d-f445e4e2c3e8"
    }
   },
   "source": [
    "##### 90% diagonal"
   ]
  },
  {
   "cell_type": "code",
   "execution_count": 76,
   "metadata": {
    "collapsed": false,
    "nbpresent": {
     "id": "0969a4fc-539b-4968-a36e-4f86efe8cf52"
    }
   },
   "outputs": [
    {
     "name": "stdout",
     "output_type": "stream",
     "text": [
      "Our truth_1 = [50 20] and our reco_1 = [ 47.  23.]\n",
      "The migration matrix M_1 = \n",
      "[[ 0.9  0.1]\n",
      " [ 0.1  0.9]]\n",
      "The transfer function TF_1 = [ 0.94  1.15]\n",
      "Our truth_2 = [45 25] and our reco_2 = [ 43.  27.]\n",
      "The migration matrix M_2 = \n",
      "[[ 0.9  0.1]\n",
      " [ 0.1  0.9]]\n",
      "The transfer function TF_2 = [ 0.95555556  1.08      ]\n",
      "[ 42.3   28.75]\n",
      "Difference between folded and actual reco_2 = [ 0.  0.] %\n",
      "Difference between transfer function and actual reco_2 = [ 1.62790698 -6.48148148] %\n"
     ]
    }
   ],
   "source": [
    "# system_1\n",
    "M_1 = np.array([[0.9, 0.1],\n",
    "                [0.1, 0.9]])\n",
    "reco_1 = np.matmul(M_1, truth_1)\n",
    "TF_1 = reco_1/truth_1\n",
    "print(\"Our truth_1 = %s and our reco_1 = %s\" % (str(truth_1), str(reco_1)))\n",
    "print(\"The migration matrix M_1 = \")\n",
    "print(np.matrix(M_1))\n",
    "print(\"The transfer function TF_1 = %s\" % str(TF_1))\n",
    "# system_2\n",
    "truth_2 = np.array([45, 25])\n",
    "M_2 = M_1\n",
    "reco_2 = np.matmul(M_2, truth_2)\n",
    "TF_2 = reco_2/truth_2\n",
    "print(\"Our truth_2 = %s and our reco_2 = %s\" % (str(truth_2), str(reco_2)))\n",
    "print(\"The migration matrix M_2 = \")\n",
    "print(np.matrix(M_2))\n",
    "print(\"The transfer function TF_2 = %s\" % str(TF_2))\n",
    "# compare\n",
    "reco_2_folded = np.matmul(M_1, truth_2)\n",
    "reco_2_transfer = truth_2 * TF_1\n",
    "print(reco_2_transfer)\n",
    "print(\"Difference between folded and actual reco_2 = %s %%\" % str(percentage_differnce(reco_2, reco_2_folded)))\n",
    "print(\"Difference between transfer function and actual reco_2 = %s %%\" % str(percentage_differnce(reco_2, reco_2_transfer)))\n",
    "reco_2_folded_90 = reco_2_folded\n",
    "reco_2_transfer_90  = reco_2_transfer"
   ]
  },
  {
   "cell_type": "markdown",
   "metadata": {
    "nbpresent": {
     "id": "81f5b11d-624f-4bfa-980d-8390fc9b6fc1"
    }
   },
   "source": [
    "As expected, changing the diagonality of the migration matrix makes no difference to the folding approach - it always closes. \n",
    "\n",
    "For the transfer function, we find that the more diagonal the migration matrix, the smaller the error. This is summarised in the table below:\n",
    "\n",
    "| % diagonality | Bin 1 %difference | Bin 2 %difference  |\n",
    "| -------------: |-------------:    | -----:             |\n",
    "| 70%          | 5.3              | -16.9                |\n",
    "| 80%          | 3.4              | -12.1                |\n",
    "| 90%          | 1.6              | -6.5                 |\n"
   ]
  },
  {
   "cell_type": "markdown",
   "metadata": {
    "nbpresent": {
     "id": "ca360de3-ec29-418b-9077-aaf7e6c2e727"
    }
   },
   "source": [
    "`M_1 != M_2`\n",
    "----------------------------------------------------\n",
    "Now we will look at the case where the two migration matricies are not equal. In this case we will keep **system 1** the same but change **system 2**."
   ]
  },
  {
   "cell_type": "code",
   "execution_count": 77,
   "metadata": {
    "collapsed": false,
    "nbpresent": {
     "id": "32c85835-687c-40eb-a929-d25b6e4757c4"
    }
   },
   "outputs": [
    {
     "name": "stdout",
     "output_type": "stream",
     "text": [
      "Our truth_1 = [50 20] and our reco_1 = [ 44.  26.]\n",
      "The migration matrix M_1 = \n",
      "[[ 0.8  0.2]\n",
      " [ 0.2  0.8]]\n",
      "The transfer function TF_1 = [ 0.88  1.3 ]\n",
      "Our truth_2 = [45 25] and our reco_2 = [ 43.  27.]\n",
      "The migration matrix M_2 = \n",
      "[[ 0.9  0.1]\n",
      " [ 0.1  0.9]]\n",
      "The transfer function TF_2 = [ 0.95555556  1.08      ]\n"
     ]
    }
   ],
   "source": [
    "truth_1 = np.array([50, 20])\n",
    "M_1 = np.array([[0.8, 0.2],\n",
    "                [0.2, 0.8]])\n",
    "reco_1 = np.matmul(M_1, truth_1)\n",
    "TF_1 = reco_1/truth_1\n",
    "print(\"Our truth_1 = %s and our reco_1 = %s\" % (str(truth_1), str(reco_1)))\n",
    "print(\"The migration matrix M_1 = \")\n",
    "print(np.matrix(M_1))\n",
    "print(\"The transfer function TF_1 = %s\" % str(TF_1))\n",
    "\n",
    "\n",
    "truth_2 = np.array([45, 25])\n",
    "M_2 = np.array([[0.9, 0.1],\n",
    "                [0.1, 0.9]])\n",
    "reco_2 = np.matmul(M_2, truth_2)\n",
    "TF_2 = reco_2/truth_2\n",
    "print(\"Our truth_2 = %s and our reco_2 = %s\" % (str(truth_2), str(reco_2)))\n",
    "print(\"The migration matrix M_2 = \")\n",
    "print(np.matrix(M_2))\n",
    "print(\"The transfer function TF_2 = %s\" % str(TF_2))"
   ]
  },
  {
   "cell_type": "markdown",
   "metadata": {
    "nbpresent": {
     "id": "3867312a-6eef-43ee-bbf6-e0092652d5f8"
    }
   },
   "source": [
    "##### If we now apply `M_1` and `TF_1` to `truth_2`, which method is closest the the actual `reco_2`?"
   ]
  },
  {
   "cell_type": "code",
   "execution_count": 78,
   "metadata": {
    "collapsed": false,
    "nbpresent": {
     "id": "156bb3fd-f5f5-4197-a11e-b90f63bb68a0"
    }
   },
   "outputs": [
    {
     "name": "stdout",
     "output_type": "stream",
     "text": [
      "Difference between folded and actual reco_2 = [ 4.65116279 -7.40740741] %\n",
      "Difference between transfer function and actual reco_2 = [  7.90697674 -20.37037037] %\n"
     ]
    }
   ],
   "source": [
    "reco_2_folded = np.matmul(M_1, truth_2)\n",
    "reco_2_transfer = truth_2 * TF_1\n",
    "print(\"Difference between folded and actual reco_2 = %s %%\" % str(percentage_differnce(reco_2, reco_2_folded)))\n",
    "print(\"Difference between transfer function and actual reco_2 = %s %%\" % str(percentage_differnce(reco_2, reco_2_transfer)))"
   ]
  },
  {
   "cell_type": "markdown",
   "metadata": {
    "nbpresent": {
     "id": "f1d7eb57-066b-4578-b6a8-28a18bf2faed"
    }
   },
   "source": [
    "What we see is that there is now a difference in the folded case and the transfer function case. In this particular case where `M_1` is less diagonal than `M_2`, the folding method is more accurate. In the opposie situation where `M_1` is more diagonal than `M_2':"
   ]
  },
  {
   "cell_type": "code",
   "execution_count": 79,
   "metadata": {
    "collapsed": false,
    "nbpresent": {
     "id": "5d7c1b36-3a74-47a6-a4ac-fb750f5dd990"
    }
   },
   "outputs": [
    {
     "name": "stdout",
     "output_type": "stream",
     "text": [
      "Our truth_1 = [50 20] and our reco_1 = [ 47.  23.]\n",
      "The migration matrix M_1 = \n",
      "[[ 0.9  0.1]\n",
      " [ 0.1  0.9]]\n",
      "The transfer function TF_1 = [ 0.94  1.15]\n",
      "Our truth_2 = [45 25] and our reco_2 = [ 41.  29.]\n",
      "The migration matrix M_2 = \n",
      "[[ 0.8  0.2]\n",
      " [ 0.2  0.8]]\n",
      "The transfer function TF_2 = [ 0.91111111  1.16      ]\n",
      "Difference between folded and actual reco_2 = [-4.87804878  6.89655172] %\n",
      "Difference between transfer function and actual reco_2 = [-3.17073171  0.86206897] %\n"
     ]
    }
   ],
   "source": [
    "truth_1 = np.array([50, 20])\n",
    "M_1 = np.array([[0.9, 0.1],\n",
    "                [0.1, 0.9]])\n",
    "reco_1 = np.matmul(M_1, truth_1)\n",
    "TF_1 = reco_1/truth_1\n",
    "print(\"Our truth_1 = %s and our reco_1 = %s\" % (str(truth_1), str(reco_1)))\n",
    "print(\"The migration matrix M_1 = \")\n",
    "print(np.matrix(M_1))\n",
    "print(\"The transfer function TF_1 = %s\" % str(TF_1))\n",
    "\n",
    "\n",
    "truth_2 = np.array([45, 25])\n",
    "M_2 = np.array([[0.8, 0.2],\n",
    "                [0.2, 0.8]])\n",
    "reco_2 = np.matmul(M_2, truth_2)\n",
    "TF_2 = reco_2/truth_2\n",
    "print(\"Our truth_2 = %s and our reco_2 = %s\" % (str(truth_2), str(reco_2)))\n",
    "print(\"The migration matrix M_2 = \")\n",
    "print(np.matrix(M_2))\n",
    "print(\"The transfer function TF_2 = %s\" % str(TF_2))\n",
    "\n",
    "reco_2_folded = np.matmul(M_1, truth_2)\n",
    "reco_2_transfer = truth_2 * TF_1\n",
    "print(\"Difference between folded and actual reco_2 = %s %%\" % str(percentage_differnce(reco_2, reco_2_folded)))\n",
    "print(\"Difference between transfer function and actual reco_2 = %s %%\" % str(percentage_differnce(reco_2, reco_2_transfer)))"
   ]
  },
  {
   "cell_type": "markdown",
   "metadata": {
    "nbpresent": {
     "id": "431acea9-34a3-457c-b510-b2cb64757e98"
    }
   },
   "source": [
    "We find that the opposite is true, the transfer function is more accurate. In this case we are using significantly different migration matricies when in fact for our situation they are likely much closer. Trying with more similar migration matricies:"
   ]
  },
  {
   "cell_type": "code",
   "execution_count": 81,
   "metadata": {
    "collapsed": false,
    "nbpresent": {
     "id": "f78e3d69-7331-4f8b-a522-1c1a6121b4fd"
    }
   },
   "outputs": [
    {
     "name": "stdout",
     "output_type": "stream",
     "text": [
      "Our truth_1 = [50 20] and our reco_1 = [ 44.6  25.4]\n",
      "The migration matrix M_1 = \n",
      "[[ 0.82  0.18]\n",
      " [ 0.18  0.82]]\n",
      "The transfer function TF_1 = [ 0.892  1.27 ]\n",
      "Our truth_2 = [45 25] and our reco_2 = [ 41.  29.]\n",
      "The migration matrix M_2 = \n",
      "[[ 0.8  0.2]\n",
      " [ 0.2  0.8]]\n",
      "The transfer function TF_2 = [ 0.91111111  1.16      ]\n",
      "Difference between folded and actual reco_2 = [-0.97560976  1.37931034] %\n",
      "Difference between transfer function and actual reco_2 = [ 2.09756098 -9.48275862] %\n"
     ]
    }
   ],
   "source": [
    "truth_1 = np.array([50, 20])\n",
    "M_1 = np.array([[0.82, 0.18],\n",
    "                [0.18, 0.82]])\n",
    "reco_1 = np.matmul(M_1, truth_1)\n",
    "TF_1 = reco_1/truth_1\n",
    "print(\"Our truth_1 = %s and our reco_1 = %s\" % (str(truth_1), str(reco_1)))\n",
    "print(\"The migration matrix M_1 = \")\n",
    "print(np.matrix(M_1))\n",
    "print(\"The transfer function TF_1 = %s\" % str(TF_1))\n",
    "\n",
    "\n",
    "truth_2 = np.array([45, 25])\n",
    "M_2 = np.array([[0.8, 0.2],\n",
    "                [0.2, 0.8]])\n",
    "reco_2 = np.matmul(M_2, truth_2)\n",
    "TF_2 = reco_2/truth_2\n",
    "print(\"Our truth_2 = %s and our reco_2 = %s\" % (str(truth_2), str(reco_2)))\n",
    "print(\"The migration matrix M_2 = \")\n",
    "print(np.matrix(M_2))\n",
    "print(\"The transfer function TF_2 = %s\" % str(TF_2))\n",
    "\n",
    "reco_2_folded = np.matmul(M_1, truth_2)\n",
    "reco_2_transfer = truth_2 * TF_1\n",
    "print(\"Difference between folded and actual reco_2 = %s %%\" % str(percentage_differnce(reco_2, reco_2_folded)))\n",
    "print(\"Difference between transfer function and actual reco_2 = %s %%\" % str(percentage_differnce(reco_2, reco_2_transfer)))"
   ]
  },
  {
   "cell_type": "markdown",
   "metadata": {
    "nbpresent": {
     "id": "0b25e0bc-bb6b-48b7-ae4f-9843f9d689f1"
    }
   },
   "source": [
    "In this case where the migration matricies are much closer, the folding method is more accurate. The same case where `M_1` and `M_2` are now swapped:"
   ]
  },
  {
   "cell_type": "code",
   "execution_count": 82,
   "metadata": {
    "collapsed": false,
    "nbpresent": {
     "id": "11448c7b-9af5-4a29-bf27-161d15df28c0"
    }
   },
   "outputs": [
    {
     "name": "stdout",
     "output_type": "stream",
     "text": [
      "Our truth_1 = [50 20] and our reco_1 = [ 44.  26.]\n",
      "The migration matrix M_1 = \n",
      "[[ 0.8  0.2]\n",
      " [ 0.2  0.8]]\n",
      "The transfer function TF_1 = [ 0.88  1.3 ]\n",
      "Our truth_2 = [45 25] and our reco_2 = [ 41.4  28.6]\n",
      "The migration matrix M_2 = \n",
      "[[ 0.82  0.18]\n",
      " [ 0.18  0.82]]\n",
      "The transfer function TF_2 = [ 0.92   1.144]\n",
      "Difference between folded and actual reco_2 = [ 0.96618357 -1.3986014 ] %\n",
      "Difference between transfer function and actual reco_2 = [  4.34782609 -13.63636364] %\n"
     ]
    }
   ],
   "source": [
    "truth_1 = np.array([50, 20])\n",
    "M_1 = np.array([[0.8, 0.2],\n",
    "                [0.2, 0.8]])\n",
    "reco_1 = np.matmul(M_1, truth_1)\n",
    "TF_1 = reco_1/truth_1\n",
    "print(\"Our truth_1 = %s and our reco_1 = %s\" % (str(truth_1), str(reco_1)))\n",
    "print(\"The migration matrix M_1 = \")\n",
    "print(np.matrix(M_1))\n",
    "print(\"The transfer function TF_1 = %s\" % str(TF_1))\n",
    "\n",
    "\n",
    "truth_2 = np.array([45, 25])\n",
    "M_2 = np.array([[0.82, 0.18],\n",
    "                [0.18, 0.82]])\n",
    "reco_2 = np.matmul(M_2, truth_2)\n",
    "TF_2 = reco_2/truth_2\n",
    "print(\"Our truth_2 = %s and our reco_2 = %s\" % (str(truth_2), str(reco_2)))\n",
    "print(\"The migration matrix M_2 = \")\n",
    "print(np.matrix(M_2))\n",
    "print(\"The transfer function TF_2 = %s\" % str(TF_2))\n",
    "\n",
    "reco_2_folded = np.matmul(M_1, truth_2)\n",
    "reco_2_transfer = truth_2 * TF_1\n",
    "print(\"Difference between folded and actual reco_2 = %s %%\" % str(percentage_differnce(reco_2, reco_2_folded)))\n",
    "print(\"Difference between transfer function and actual reco_2 = %s %%\" % str(percentage_differnce(reco_2, reco_2_transfer)))"
   ]
  },
  {
   "cell_type": "markdown",
   "metadata": {
    "nbpresent": {
     "id": "a953c10b-1537-4a19-a922-52b22449fb62"
    }
   },
   "source": [
    "Again the folding method is more accurate. It seems that the closer the two migration matricies are, the better the folding method will be compared to the transfer function. This makes sense as we have already shown that when the migration matricies are the same, the folding closes whereas the transfer function has an error."
   ]
  },
  {
   "cell_type": "code",
   "execution_count": null,
   "metadata": {
    "collapsed": true,
    "nbpresent": {
     "id": "04599867-3769-44e1-afc4-ea9b99ed9891"
    }
   },
   "outputs": [],
   "source": []
  }
 ],
 "metadata": {
  "anaconda-cloud": {},
  "kernelspec": {
   "display_name": "Python [default]",
   "language": "python",
   "name": "python2"
  },
  "language_info": {
   "codemirror_mode": {
    "name": "ipython",
    "version": 2
   },
   "file_extension": ".py",
   "mimetype": "text/x-python",
   "name": "python",
   "nbconvert_exporter": "python",
   "pygments_lexer": "ipython2",
   "version": "2.7.12"
  },
  "nbpresent": {
   "slides": {},
   "themes": {
    "default": "8da1d15f-6859-4401-8275-c0feb348cba5",
    "theme": {
     "46b795bb-a771-4948-bad1-62e6c9958a96": {
      "id": "46b795bb-a771-4948-bad1-62e6c9958a96",
      "palette": {
       "19cc588f-0593-49c9-9f4b-e4d7cc113b1c": {
        "id": "19cc588f-0593-49c9-9f4b-e4d7cc113b1c",
        "rgb": [
         252,
         252,
         252
        ]
       },
       "31af15d2-7e15-44c5-ab5e-e04b16a89eff": {
        "id": "31af15d2-7e15-44c5-ab5e-e04b16a89eff",
        "rgb": [
         68,
         68,
         68
        ]
       },
       "50f92c45-a630-455b-aec3-788680ec7410": {
        "id": "50f92c45-a630-455b-aec3-788680ec7410",
        "rgb": [
         155,
         177,
         192
        ]
       },
       "c5cc3653-2ee1-402a-aba2-7caae1da4f6c": {
        "id": "c5cc3653-2ee1-402a-aba2-7caae1da4f6c",
        "rgb": [
         43,
         126,
         184
        ]
       },
       "efa7f048-9acb-414c-8b04-a26811511a21": {
        "id": "efa7f048-9acb-414c-8b04-a26811511a21",
        "rgb": [
         25.118061674008803,
         73.60176211453744,
         107.4819383259912
        ]
       }
      },
      "rules": {
       "blockquote": {
        "color": "50f92c45-a630-455b-aec3-788680ec7410"
       },
       "code": {
        "font-family": "Anonymous Pro"
       },
       "h1": {
        "color": "c5cc3653-2ee1-402a-aba2-7caae1da4f6c",
        "font-family": "Lato",
        "font-size": 8
       },
       "h2": {
        "color": "c5cc3653-2ee1-402a-aba2-7caae1da4f6c",
        "font-family": "Lato",
        "font-size": 6
       },
       "h3": {
        "color": "50f92c45-a630-455b-aec3-788680ec7410",
        "font-family": "Lato",
        "font-size": 5.5
       },
       "h4": {
        "color": "c5cc3653-2ee1-402a-aba2-7caae1da4f6c",
        "font-family": "Lato",
        "font-size": 5
       },
       "h5": {
        "font-family": "Lato"
       },
       "h6": {
        "font-family": "Lato"
       },
       "h7": {
        "font-family": "Lato"
       },
       "pre": {
        "font-family": "Anonymous Pro",
        "font-size": 4
       }
      },
      "text-base": {
       "font-family": "Merriweather",
       "font-size": 4
      }
     },
     "8da1d15f-6859-4401-8275-c0feb348cba5": {
      "backgrounds": {
       "dc7afa04-bf90-40b1-82a5-726e3cff5267": {
        "background-color": "31af15d2-7e15-44c5-ab5e-e04b16a89eff",
        "id": "dc7afa04-bf90-40b1-82a5-726e3cff5267"
       }
      },
      "id": "8da1d15f-6859-4401-8275-c0feb348cba5",
      "palette": {
       "19cc588f-0593-49c9-9f4b-e4d7cc113b1c": {
        "id": "19cc588f-0593-49c9-9f4b-e4d7cc113b1c",
        "rgb": [
         252,
         252,
         252
        ]
       },
       "31af15d2-7e15-44c5-ab5e-e04b16a89eff": {
        "id": "31af15d2-7e15-44c5-ab5e-e04b16a89eff",
        "rgb": [
         68,
         68,
         68
        ]
       },
       "50f92c45-a630-455b-aec3-788680ec7410": {
        "id": "50f92c45-a630-455b-aec3-788680ec7410",
        "rgb": [
         197,
         226,
         245
        ]
       },
       "c5cc3653-2ee1-402a-aba2-7caae1da4f6c": {
        "id": "c5cc3653-2ee1-402a-aba2-7caae1da4f6c",
        "rgb": [
         43,
         126,
         184
        ]
       },
       "efa7f048-9acb-414c-8b04-a26811511a21": {
        "id": "efa7f048-9acb-414c-8b04-a26811511a21",
        "rgb": [
         25.118061674008803,
         73.60176211453744,
         107.4819383259912
        ]
       }
      },
      "rules": {
       "a": {
        "color": "19cc588f-0593-49c9-9f4b-e4d7cc113b1c"
       },
       "blockquote": {
        "color": "50f92c45-a630-455b-aec3-788680ec7410",
        "font-size": 3
       },
       "code": {
        "font-family": "Anonymous Pro"
       },
       "h1": {
        "color": "19cc588f-0593-49c9-9f4b-e4d7cc113b1c",
        "font-family": "Merriweather",
        "font-size": 8
       },
       "h2": {
        "color": "19cc588f-0593-49c9-9f4b-e4d7cc113b1c",
        "font-family": "Merriweather",
        "font-size": 6
       },
       "h3": {
        "color": "50f92c45-a630-455b-aec3-788680ec7410",
        "font-family": "Lato",
        "font-size": 5.5
       },
       "h4": {
        "color": "c5cc3653-2ee1-402a-aba2-7caae1da4f6c",
        "font-family": "Lato",
        "font-size": 5
       },
       "h5": {
        "font-family": "Lato"
       },
       "h6": {
        "font-family": "Lato"
       },
       "h7": {
        "font-family": "Lato"
       },
       "li": {
        "color": "50f92c45-a630-455b-aec3-788680ec7410",
        "font-size": 3.25
       },
       "pre": {
        "font-family": "Anonymous Pro",
        "font-size": 4
       }
      },
      "text-base": {
       "color": "19cc588f-0593-49c9-9f4b-e4d7cc113b1c",
       "font-family": "Lato",
       "font-size": 4
      }
     }
    }
   }
  }
 },
 "nbformat": 4,
 "nbformat_minor": 1
}
