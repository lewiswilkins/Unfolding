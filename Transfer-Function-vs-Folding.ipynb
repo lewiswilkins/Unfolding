{
 "cells": [
  {
   "cell_type": "code",
   "execution_count": 2,
   "metadata": {
    "nbpresent": {
     "id": "6ed7eeb2-9b47-4eaa-adf0-feca84173349"
    }
   },
   "outputs": [],
   "source": [
    "import numpy as np\n",
    "import matplotlib.pyplot as plt\n",
    "from helpers import percentage_difference, compare_method"
   ]
  },
  {
   "cell_type": "markdown",
   "metadata": {
    "nbpresent": {
     "id": "0ce2fb58-771f-414f-8577-12f88e82648a"
    }
   },
   "source": [
    "Transfer function vs Folding - simple 2 bin example\n",
    "----------------------------------------------------\n",
    "\n",
    "We will work through a simple 2 bin example and look at whether using a transfer function or full folding gives a more \"*correct*\" answer.\n",
    "\n",
    "##### Question: \n",
    "We have a **system 1** where we have a `reco_1`, `truth_1`, migration matrix `M_1` and a transfer function `TF_1`.\n",
    "\n",
    "We then have a second system, **system 2**, again with `reco_2`, `truth_2`, migration matrix `M_2` and a transfer function `TF_2`.\n",
    "\n",
    "We want to know if we can use the `M_1` and `TF_1` from **system 1** to get the correct `reco_2` from `truth_2`\n",
    "\n",
    "First we will look at two simple cases: `M_1=M_2` and `M_1!=M_2`\n"
   ]
  },
  {
   "cell_type": "markdown",
   "metadata": {
    "collapsed": true,
    "nbpresent": {
     "id": "4ae45283-a8b2-46e7-aed6-9ab98aaeebf5"
    }
   },
   "source": [
    "`M_1 = M_2`\n",
    "----------------------------------------------------"
   ]
  },
  {
   "cell_type": "code",
   "execution_count": 3,
   "metadata": {
    "nbpresent": {
     "id": "e05cd021-9ef2-4c09-bdbb-a692f0e7e455"
    },
    "scrolled": true
   },
   "outputs": [
    {
     "name": "stdout",
     "output_type": "stream",
     "text": [
      "Our truth_1 = [50 20] and our reco_1 = [ 44.  26.]\n",
      "The migration matrix M_1 = \n",
      "[[ 0.8  0.2]\n",
      " [ 0.2  0.8]]\n",
      "The transfer function TF_1 = [ 0.88  1.3 ]\n"
     ]
    }
   ],
   "source": [
    "truth_1 = np.array([50, 20])\n",
    "M_1 = np.array([[0.8, 0.2],\n",
    "                [0.2, 0.8]])\n",
    "reco_1 = np.matmul(M_1, truth_1)\n",
    "TF_1 = reco_1/truth_1\n",
    "print(\"Our truth_1 = %s and our reco_1 = %s\" % (str(truth_1), str(reco_1)))\n",
    "print(\"The migration matrix M_1 = \")\n",
    "print(np.matrix(M_1))\n",
    "print(\"The transfer function TF_1 = %s\" % str(TF_1))"
   ]
  },
  {
   "cell_type": "code",
   "execution_count": 4,
   "metadata": {
    "nbpresent": {
     "id": "5f45eb6e-d359-48fe-82a9-17dc77275999"
    }
   },
   "outputs": [
    {
     "name": "stdout",
     "output_type": "stream",
     "text": [
      "Our truth_2 = [45 25] and our reco_2 = [ 41.  29.]\n",
      "The migration matrix M_2 = \n",
      "[[ 0.8  0.2]\n",
      " [ 0.2  0.8]]\n",
      "The transfer function TF_2 = [ 0.91111111  1.16      ]\n"
     ]
    }
   ],
   "source": [
    "truth_2 = np.array([45, 25])\n",
    "M_2 = M_1\n",
    "reco_2 = np.matmul(M_2, truth_2)\n",
    "TF_2 = reco_2/truth_2\n",
    "print(\"Our truth_2 = %s and our reco_2 = %s\" % (str(truth_2), str(reco_2)))\n",
    "print(\"The migration matrix M_2 = \")\n",
    "print(np.matrix(M_2))\n",
    "print(\"The transfer function TF_2 = %s\" % str(TF_2))"
   ]
  },
  {
   "cell_type": "markdown",
   "metadata": {
    "nbpresent": {
     "id": "dc6d968c-81dc-4563-9b3e-9a472141c091"
    }
   },
   "source": [
    "##### If we now apply `M_1` and `TF_1` to `truth_2`, which method is closest the the actual `reco_2`?"
   ]
  },
  {
   "cell_type": "code",
   "execution_count": 5,
   "metadata": {
    "nbpresent": {
     "id": "4f2e5cdf-2d3f-4379-8357-f7db28e74324"
    }
   },
   "outputs": [
    {
     "name": "stdout",
     "output_type": "stream",
     "text": [
      "[ 39.6  32.5]\n",
      "Difference between folded and actual reco_2 = [0.0, 0.0] %\n",
      "Difference between transfer function and actual reco_2 = [3.4146341463414602, -12.068965517241379] %\n"
     ]
    }
   ],
   "source": [
    "reco_2_folded = np.matmul(M_1, truth_2)\n",
    "reco_2_transfer = truth_2 * TF_1\n",
    "print(reco_2_transfer)\n",
    "print(\"Difference between folded and actual reco_2 = %s %%\" % str(percentage_difference(reco_2, reco_2_folded)))\n",
    "print(\"Difference between transfer function and actual reco_2 = %s %%\" % str(percentage_difference(reco_2, reco_2_transfer)))\n",
    "reco_2_folded_80 = reco_2_folded\n",
    "reco_2_transfer_80  = reco_2_transfer"
   ]
  },
  {
   "cell_type": "markdown",
   "metadata": {
    "nbpresent": {
     "id": "ac948dda-36a8-4571-a988-d1c0b11e4840"
    }
   },
   "source": [
    "With both migration matricies being equal, as expected the folding method gives exact closure. The transfer function however gives quite a different result. This would suggest that if the migration matrix of the two systems are the same, the folding method will be more accurate.\n",
    "\n",
    "If we now look at how this changes with the diagonality of the migration matrix.\n",
    "\n",
    "##### 70% diagonal"
   ]
  },
  {
   "cell_type": "code",
   "execution_count": 6,
   "metadata": {
    "nbpresent": {
     "id": "ed5d4aca-d1c6-43ea-9178-ec6279dd9419"
    }
   },
   "outputs": [
    {
     "name": "stdout",
     "output_type": "stream",
     "text": [
      "Our truth_1 = [50 20] and our reco_1 = [ 41.  29.]\n",
      "The migration matrix M_1 = \n",
      "[[ 0.7  0.3]\n",
      " [ 0.3  0.7]]\n",
      "The transfer function TF_1 = [ 0.82  1.45]\n",
      "Our truth_2 = [45 25] and our reco_2 = [ 39.  31.]\n",
      "The migration matrix M_2 = \n",
      "[[ 0.7  0.3]\n",
      " [ 0.3  0.7]]\n",
      "The transfer function TF_2 = [ 0.86666667  1.24      ]\n",
      "[ 36.9   36.25]\n",
      "Difference between folded and actual reco_2 = [0.0, 0.0] %\n",
      "Difference between transfer function and actual reco_2 = [5.3846153846153886, -16.93548387096774] %\n"
     ]
    }
   ],
   "source": [
    "M_1 = np.array([[0.7, 0.3],\n",
    "                [0.3, 0.7]])\n",
    "compare_method(truth_1, M_1, truth_2, M_1)\n"
   ]
  },
  {
   "cell_type": "markdown",
   "metadata": {
    "nbpresent": {
     "id": "927cd1df-dbee-46d5-be5d-f445e4e2c3e8"
    }
   },
   "source": [
    "##### 90% diagonal"
   ]
  },
  {
   "cell_type": "code",
   "execution_count": 7,
   "metadata": {
    "nbpresent": {
     "id": "0969a4fc-539b-4968-a36e-4f86efe8cf52"
    }
   },
   "outputs": [
    {
     "name": "stdout",
     "output_type": "stream",
     "text": [
      "Our truth_1 = [50 20] and our reco_1 = [ 47.  23.]\n",
      "The migration matrix M_1 = \n",
      "[[ 0.9  0.1]\n",
      " [ 0.1  0.9]]\n",
      "The transfer function TF_1 = [ 0.94  1.15]\n",
      "Our truth_2 = [45 25] and our reco_2 = [ 43.  27.]\n",
      "The migration matrix M_2 = \n",
      "[[ 0.9  0.1]\n",
      " [ 0.1  0.9]]\n",
      "The transfer function TF_2 = [ 0.95555556  1.08      ]\n",
      "[ 42.3   28.75]\n",
      "Difference between folded and actual reco_2 = [0.0, 0.0] %\n",
      "Difference between transfer function and actual reco_2 = [1.6279069767441927, -6.4814814814814685] %\n"
     ]
    }
   ],
   "source": [
    "M_1 = np.array([[0.9, 0.1],\n",
    "                [0.1, 0.9]])\n",
    "compare_method(truth_1, M_1, truth_2, M_1)"
   ]
  },
  {
   "cell_type": "markdown",
   "metadata": {
    "nbpresent": {
     "id": "81f5b11d-624f-4bfa-980d-8390fc9b6fc1"
    }
   },
   "source": [
    "As expected, changing the diagonality of the migration matrix makes no difference to the folding approach - it always closes. \n",
    "\n",
    "For the transfer function, we find that the more diagonal the migration matrix, the smaller the error. This is summarised in the table below:\n",
    "\n",
    "| % diagonality | Bin 1 %difference | Bin 2 %difference  |\n",
    "| -------------: |-------------:    | -----:             |\n",
    "| 70%          | 5.3              | -16.9                |\n",
    "| 80%          | 3.4              | -12.1                |\n",
    "| 90%          | 1.6              | -6.5                 |\n",
    "\n",
    "There is one special case where the transfer will be the same for both systems. This is where the difference between the two systems is just a scale. i.e.:"
   ]
  },
  {
   "cell_type": "code",
   "execution_count": 8,
   "metadata": {},
   "outputs": [
    {
     "name": "stdout",
     "output_type": "stream",
     "text": [
      "Our truth_1 = [50 20] and our reco_1 = [ 44.  26.]\n",
      "The migration matrix M_1 = \n",
      "[[ 0.8  0.2]\n",
      " [ 0.2  0.8]]\n",
      "The transfer function TF_1 = [ 0.88  1.3 ]\n",
      "Our truth_2 = [ 55.  22.] and our reco_2 = [ 48.4  28.6]\n",
      "The migration matrix M_2 = \n",
      "[[ 0.8  0.2]\n",
      " [ 0.2  0.8]]\n",
      "The transfer function TF_2 = [ 0.88  1.3 ]\n",
      "[ 48.4  28.6]\n",
      "Difference between folded and actual reco_2 = [0.0, 0.0] %\n",
      "Difference between transfer function and actual reco_2 = [0.0, 0.0] %\n"
     ]
    }
   ],
   "source": [
    "truth_1 = np.array([50, 20])\n",
    "M_1 = np.array([[0.8, 0.2],\n",
    "                [0.2, 0.8]])\n",
    "truth_2 = 1.1 * truth_1\n",
    "\n",
    "compare_method(truth_1, M_1, truth_2, M_1)"
   ]
  },
  {
   "cell_type": "markdown",
   "metadata": {
    "nbpresent": {
     "id": "ca360de3-ec29-418b-9077-aaf7e6c2e727"
    }
   },
   "source": [
    "`M_1 != M_2`\n",
    "----------------------------------------------------\n",
    "Now we will look at the case where the two migration matricies are not equal. In this case we will keep **system 1** the same but change **system 2**."
   ]
  },
  {
   "cell_type": "code",
   "execution_count": 9,
   "metadata": {
    "nbpresent": {
     "id": "32c85835-687c-40eb-a929-d25b6e4757c4"
    }
   },
   "outputs": [
    {
     "name": "stdout",
     "output_type": "stream",
     "text": [
      "Our truth_1 = [50 20] and our reco_1 = [ 44.  26.]\n",
      "The migration matrix M_1 = \n",
      "[[ 0.8  0.2]\n",
      " [ 0.2  0.8]]\n",
      "The transfer function TF_1 = [ 0.88  1.3 ]\n",
      "Our truth_2 = [45 25] and our reco_2 = [ 43.  27.]\n",
      "The migration matrix M_2 = \n",
      "[[ 0.9  0.1]\n",
      " [ 0.1  0.9]]\n",
      "The transfer function TF_2 = [ 0.95555556  1.08      ]\n",
      "[ 39.6  32.5]\n",
      "Difference between folded and actual reco_2 = [4.6511627906976747, -7.4074074074074066] %\n",
      "Difference between transfer function and actual reco_2 = [7.9069767441860437, -20.37037037037037] %\n"
     ]
    }
   ],
   "source": [
    "truth_1 = np.array([50, 20])\n",
    "M_1 = np.array([[0.8, 0.2],\n",
    "                [0.2, 0.8]])\n",
    "\n",
    "truth_2 = np.array([45, 25])\n",
    "M_2 = np.array([[0.9, 0.1],\n",
    "                [0.1, 0.9]])\n",
    "\n",
    "compare_method(truth_1, M_1, truth_2, M_2)"
   ]
  },
  {
   "cell_type": "markdown",
   "metadata": {
    "nbpresent": {
     "id": "3867312a-6eef-43ee-bbf6-e0092652d5f8"
    }
   },
   "source": [
    "This makes sense. There is only a scale difference between the two systems so the ratio will stay consatnt for each bin and therefore the transfer function will close. This is a very unlikley case and therefore can be ignored for practical purposes.\n",
    "##### If we now apply `M_1` and `TF_1` to `truth_2`, which method is closest the the actual `reco_2`?\n",
    "What we see is that there is now a difference in the folded case and the transfer function case. In this particular case where `M_1` is less diagonal than `M_2`, the folding method is more accurate. In the opposie situation where `M_1` is more diagonal than `M_2`:"
   ]
  },
  {
   "cell_type": "code",
   "execution_count": 10,
   "metadata": {
    "nbpresent": {
     "id": "5d7c1b36-3a74-47a6-a4ac-fb750f5dd990"
    }
   },
   "outputs": [
    {
     "name": "stdout",
     "output_type": "stream",
     "text": [
      "Our truth_1 = [50 20] and our reco_1 = [ 47.  23.]\n",
      "The migration matrix M_1 = \n",
      "[[ 0.9  0.1]\n",
      " [ 0.1  0.9]]\n",
      "The transfer function TF_1 = [ 0.94  1.15]\n",
      "Our truth_2 = [45 25] and our reco_2 = [ 41.  29.]\n",
      "The migration matrix M_2 = \n",
      "[[ 0.8  0.2]\n",
      " [ 0.2  0.8]]\n",
      "The transfer function TF_2 = [ 0.91111111  1.16      ]\n",
      "[ 42.3   28.75]\n",
      "Difference between folded and actual reco_2 = [-4.8780487804878048, 6.8965517241379306] %\n",
      "Difference between transfer function and actual reco_2 = [-3.1707317073170662, 0.86206896551725365] %\n"
     ]
    }
   ],
   "source": [
    "truth_1 = np.array([50, 20])\n",
    "M_1 = np.array([[0.9, 0.1],\n",
    "                [0.1, 0.9]])\n",
    "\n",
    "truth_2 = np.array([45, 25])\n",
    "M_2 = np.array([[0.8, 0.2],\n",
    "                [0.2, 0.8]])\n",
    "compare_method(truth_1, M_1, truth_2, M_2)\n"
   ]
  },
  {
   "cell_type": "markdown",
   "metadata": {
    "nbpresent": {
     "id": "431acea9-34a3-457c-b510-b2cb64757e98"
    }
   },
   "source": [
    "We find that the opposite is true, the transfer function is more accurate. In this case we are using significantly different migration matricies when in fact for our situation they are likely much closer. Trying with more similar migration matricies:"
   ]
  },
  {
   "cell_type": "code",
   "execution_count": 11,
   "metadata": {
    "nbpresent": {
     "id": "f78e3d69-7331-4f8b-a522-1c1a6121b4fd"
    }
   },
   "outputs": [
    {
     "name": "stdout",
     "output_type": "stream",
     "text": [
      "Our truth_1 = [50 20] and our reco_1 = [ 44.6  25.4]\n",
      "The migration matrix M_1 = \n",
      "[[ 0.82  0.18]\n",
      " [ 0.18  0.82]]\n",
      "The transfer function TF_1 = [ 0.892  1.27 ]\n",
      "Our truth_2 = [45 25] and our reco_2 = [ 41.  29.]\n",
      "The migration matrix M_2 = \n",
      "[[ 0.8  0.2]\n",
      " [ 0.2  0.8]]\n",
      "The transfer function TF_2 = [ 0.91111111  1.16      ]\n",
      "[ 40.14  31.75]\n",
      "Difference between folded and actual reco_2 = [-0.97560975609755751, 1.3793103448275814] %\n",
      "Difference between transfer function and actual reco_2 = [2.0975609756097549, -9.4827586206896548] %\n"
     ]
    }
   ],
   "source": [
    "truth_1 = np.array([50, 20])\n",
    "M_1 = np.array([[0.82, 0.18],\n",
    "                [0.18, 0.82]])\n",
    "\n",
    "truth_2 = np.array([45, 25])\n",
    "M_2 = np.array([[0.8, 0.2],\n",
    "                [0.2, 0.8]])\n",
    "\n",
    "compare_method(truth_1, M_1, truth_2, M_2)"
   ]
  },
  {
   "cell_type": "markdown",
   "metadata": {
    "nbpresent": {
     "id": "0b25e0bc-bb6b-48b7-ae4f-9843f9d689f1"
    }
   },
   "source": [
    "In this case where the migration matricies are much closer, the folding method is more accurate. The same case where `M_1` and `M_2` are now swapped:"
   ]
  },
  {
   "cell_type": "code",
   "execution_count": 12,
   "metadata": {
    "nbpresent": {
     "id": "11448c7b-9af5-4a29-bf27-161d15df28c0"
    }
   },
   "outputs": [
    {
     "name": "stdout",
     "output_type": "stream",
     "text": [
      "Our truth_1 = [50 20] and our reco_1 = [ 44.  26.]\n",
      "The migration matrix M_1 = \n",
      "[[ 0.8  0.2]\n",
      " [ 0.2  0.8]]\n",
      "The transfer function TF_1 = [ 0.88  1.3 ]\n",
      "Our truth_2 = [45 25] and our reco_2 = [ 41.4  28.6]\n",
      "The migration matrix M_2 = \n",
      "[[ 0.82  0.18]\n",
      " [ 0.18  0.82]]\n",
      "The transfer function TF_2 = [ 0.92   1.144]\n",
      "[ 39.6  32.5]\n",
      "Difference between folded and actual reco_2 = [0.96618357487922368, -1.3986013986013937] %\n",
      "Difference between transfer function and actual reco_2 = [4.3478260869565144, -13.63636363636363] %\n"
     ]
    }
   ],
   "source": [
    "truth_1 = np.array([50, 20])\n",
    "M_1 = np.array([[0.8, 0.2],\n",
    "                [0.2, 0.8]])\n",
    "\n",
    "truth_2 = np.array([45, 25])\n",
    "M_2 = np.array([[0.82, 0.18],\n",
    "                [0.18, 0.82]])\n",
    "\n",
    "compare_method(truth_1, M_1, truth_2, M_2)"
   ]
  },
  {
   "cell_type": "markdown",
   "metadata": {
    "nbpresent": {
     "id": "a953c10b-1537-4a19-a922-52b22449fb62"
    }
   },
   "source": [
    "Again the folding method is more accurate. It seems that the closer the two migration matricies are, the better the folding method will be compared to the transfer function. This makes sense as we have already shown that when the migration matricies are the same, the folding closes whereas the transfer function has an error.\n",
    "# Conclusions\n",
    "The take away messages from this are:\n",
    "* If the two migration matricies are the same, the folding method will always be more accurate.\n",
    "\n",
    "  * The transfer fucntion method is more accurate the more diagonal the migration matrix is\n",
    "  * In the special case where the two truth systems only vary by a constant scale, the transfer function will also close, but this is an unlikley case\n",
    "  \n",
    "* If the two migration matricies are different and the difference between the migration matricies is quite large, the best option depends on the numbers involved.\n",
    "\n",
    "  * In the case where the two migration matricies are similar (as in our scenario) the folding method is better. This follows from the first argument.\n",
    "\n",
    "Next is to add the efficiency and acceptance terms but I think the overall conclusions will be the same.\n",
    "\n",
    "\n"
   ]
  },
  {
   "cell_type": "markdown",
   "metadata": {},
   "source": [
    "# Inclusion of acceptance and efficiency \n",
    "The same process will be investigated but with the inclusion of acceptance and efficiency. These values used for acceptance and efficiency are similar to those found in our case."
   ]
  },
  {
   "cell_type": "code",
   "execution_count": 26,
   "metadata": {},
   "outputs": [
    {
     "name": "stdout",
     "output_type": "stream",
     "text": [
      "Our truth_1 = [50 20] and our reco_1 = [56.21052631578948, 37.32352941176471]\n",
      "The migration matrix M_1 = \n",
      "[[ 0.8  0.2]\n",
      " [ 0.2  0.8]]\n",
      "The transfer function TF_1 = [ 1.12421053  1.86617647]\n",
      "Our truth_2 = [45 25] and our reco_2 = [52.39473684210526, 41.661764705882355]\n",
      "The migration matrix M_2 = \n",
      "[[ 0.8  0.2]\n",
      " [ 0.2  0.8]]\n",
      "The transfer function TF_2 = [ 1.16432749  1.66647059]\n",
      "[ 50.58947368  46.65441176]\n",
      "Difference between folded and actual reco_2 = [0.0, 0.0] %\n",
      "Difference between transfer function and actual reco_2 = [3.4455047714716067, -11.983762795623031] %\n"
     ]
    }
   ],
   "source": [
    "truth_1 = np.array([50, 20])\n",
    "M_1 = np.array([[0.8, 0.2],\n",
    "                [0.2, 0.8]])\n",
    "acceptance_1 = [0.76, 0.68]\n",
    "efficiency_1 = [0.97, 0.98]\n",
    "\n",
    "\n",
    "truth_2 = np.array([45, 25])\n",
    "M_2 = M_1\n",
    "acceptance_2 = acceptance_1\n",
    "efficiency_2 = efficiency_1\n",
    "\n",
    "compare_method(truth_1, M_1, truth_2, M_2, acceptance_1, efficiency_1, acceptance_2, efficiency_2)\n"
   ]
  },
  {
   "cell_type": "markdown",
   "metadata": {},
   "source": [
    "We again see a perfect closure for the folding and a fairly large difference for the transfer function. If we now look at how this changes with the diagonality of the migration matrix.\n",
    "##### 70%"
   ]
  },
  {
   "cell_type": "code",
   "execution_count": 29,
   "metadata": {},
   "outputs": [
    {
     "name": "stdout",
     "output_type": "stream",
     "text": [
      "Our truth_1 = [50 20] and our reco_1 = [52.407894736842103, 41.573529411764696]\n",
      "The migration matrix M_1 = \n",
      "[[ 0.7  0.3]\n",
      " [ 0.3  0.7]]\n",
      "The transfer function TF_1 = [ 1.04815789  2.07867647]\n",
      "Our truth_2 = [45 25] and our reco_2 = [49.874999999999993, 44.47794117647058]\n",
      "The migration matrix M_2 = \n",
      "[[ 0.7  0.3]\n",
      " [ 0.3  0.7]]\n",
      "The transfer function TF_2 = [ 1.10833333  1.77911765]\n",
      "[ 47.16710526  51.96691176]\n",
      "Difference between folded and actual reco_2 = [0.0, 0.0] %\n",
      "Difference between transfer function and actual reco_2 = [5.4293628808864307, -16.837493800628199] %\n"
     ]
    }
   ],
   "source": [
    "M_1 = np.array([[0.7, 0.3],\n",
    "                [0.3, 0.7]])\n",
    "M_2 = M_1\n",
    "compare_method(truth_1, M_1, truth_2, M_2, acceptance_1, efficiency_1, acceptance_2, efficiency_2)\n"
   ]
  },
  {
   "cell_type": "markdown",
   "metadata": {},
   "source": [
    "##### 90%"
   ]
  },
  {
   "cell_type": "code",
   "execution_count": 28,
   "metadata": {},
   "outputs": [
    {
     "name": "stdout",
     "output_type": "stream",
     "text": [
      "Our truth_1 = [50 20] and our reco_1 = [60.013157894736842, 33.073529411764703]\n",
      "The migration matrix M_1 = \n",
      "[[ 0.9  0.1]\n",
      " [ 0.1  0.9]]\n",
      "The transfer function TF_1 = [ 1.20026316  1.65367647]\n",
      "Our truth_2 = [45 25] and our reco_2 = [54.914473684210527, 38.845588235294116]\n",
      "The migration matrix M_2 = \n",
      "[[ 0.9  0.1]\n",
      " [ 0.1  0.9]]\n",
      "The transfer function TF_2 = [ 1.22032164  1.55382353]\n",
      "[ 54.01184211  41.34191176]\n",
      "Difference between folded and actual reco_2 = [0.0, 0.0] %\n",
      "Difference between transfer function and actual reco_2 = [1.6437043249071446, -6.4262729509748153] %\n"
     ]
    }
   ],
   "source": [
    "M_1 = np.array([[0.9, 0.1],\n",
    "                [0.1, 0.9]])\n",
    "M_2 = M_1\n",
    "compare_method(truth_1, M_1, truth_2, M_2, acceptance_1, efficiency_1, acceptance_2, efficiency_2)\n"
   ]
  },
  {
   "cell_type": "markdown",
   "metadata": {},
   "source": [
    "This can be summarised in the table below:\n",
    "\n",
    "| % diagonality | Bin 1 %difference | Bin 2 %difference  |\n",
    "| -------------: |-------------:    | -----:             |\n",
    "| 70%          | 5.4              | -16.8                |\n",
    "| 80%          | 3.4              | -11.99               |\n",
    "| 90%          | 1.6              | -6.4                 |\n",
    "\n",
    "We see almost identical results as using only the response matrix\n"
   ]
  },
  {
   "cell_type": "markdown",
   "metadata": {},
   "source": [
    "`M_1 != M_2`\n",
    "----------------------------------------------------\n",
    "Now we will look at the case where the two migration matricies are not equal and also the acceptance and efficiency is changed. In this case we will keep **system 1** the same but change **system 2**."
   ]
  },
  {
   "cell_type": "code",
   "execution_count": 35,
   "metadata": {},
   "outputs": [
    {
     "name": "stdout",
     "output_type": "stream",
     "text": [
      "Our truth_1 = [50 20] and our reco_1 = [54.909090909090907, 37.492537313432827]\n",
      "The migration matrix M_1 = \n",
      "[[ 0.8  0.2]\n",
      " [ 0.2  0.8]]\n",
      "The transfer function TF_1 = [ 1.09818182  1.87462687]\n",
      "Our truth_2 = [45 25] and our reco_2 = [52.898684210526298, 41.098529411764702]\n",
      "The migration matrix M_2 = \n",
      "[[ 0.82  0.18]\n",
      " [ 0.18  0.82]]\n",
      "The transfer function TF_2 = [ 1.17552632  1.64394118]\n",
      "[ 49.41818182  46.86567164]\n",
      "Difference between folded and actual reco_2 = [3.2455741656547148, -1.8302768192885577] %\n",
      "Difference between transfer function and actual reco_2 = [6.5795632619003772, -14.03247832117188] %\n"
     ]
    }
   ],
   "source": [
    "truth_1 = np.array([50, 20])\n",
    "M_1 = np.array([[0.8, 0.2],\n",
    "                [0.2, 0.8]])\n",
    "acceptance_1 = [0.76, 0.68]\n",
    "efficiency_1 = [0.97, 0.98]\n",
    "\n",
    "truth_2 = np.array([45, 25])\n",
    "M_2 = np.array([[0.82, 0.18],\n",
    "                [0.18, 0.82]])\n",
    "acceptance_1 = [0.77, 0.67]\n",
    "efficiency_1 = [0.96, 0.97]\n",
    "\n",
    "compare_method(truth_1, M_1, truth_2, M_2, acceptance_1, efficiency_1, acceptance_2, efficiency_2)\n",
    "\n"
   ]
  },
  {
   "cell_type": "markdown",
   "metadata": {},
   "source": [
    "For this example, realistic values for the migration matrix, acceptance and efficiency terms are used. This is such that the difference between the two systems in reasonably small. Overall we again see that the folding method produces a more accurate result."
   ]
  },
  {
   "cell_type": "code",
   "execution_count": null,
   "metadata": {},
   "outputs": [],
   "source": []
  }
 ],
 "metadata": {
  "anaconda-cloud": {},
  "kernelspec": {
   "display_name": "Python 3",
   "language": "python",
   "name": "python3"
  },
  "language_info": {
   "codemirror_mode": {
    "name": "ipython",
    "version": 3
   },
   "file_extension": ".py",
   "mimetype": "text/x-python",
   "name": "python",
   "nbconvert_exporter": "python",
   "pygments_lexer": "ipython3",
   "version": "3.6.2"
  },
  "nbpresent": {
   "slides": {},
   "themes": {
    "default": "8da1d15f-6859-4401-8275-c0feb348cba5",
    "theme": {
     "46b795bb-a771-4948-bad1-62e6c9958a96": {
      "id": "46b795bb-a771-4948-bad1-62e6c9958a96",
      "palette": {
       "19cc588f-0593-49c9-9f4b-e4d7cc113b1c": {
        "id": "19cc588f-0593-49c9-9f4b-e4d7cc113b1c",
        "rgb": [
         252,
         252,
         252
        ]
       },
       "31af15d2-7e15-44c5-ab5e-e04b16a89eff": {
        "id": "31af15d2-7e15-44c5-ab5e-e04b16a89eff",
        "rgb": [
         68,
         68,
         68
        ]
       },
       "50f92c45-a630-455b-aec3-788680ec7410": {
        "id": "50f92c45-a630-455b-aec3-788680ec7410",
        "rgb": [
         155,
         177,
         192
        ]
       },
       "c5cc3653-2ee1-402a-aba2-7caae1da4f6c": {
        "id": "c5cc3653-2ee1-402a-aba2-7caae1da4f6c",
        "rgb": [
         43,
         126,
         184
        ]
       },
       "efa7f048-9acb-414c-8b04-a26811511a21": {
        "id": "efa7f048-9acb-414c-8b04-a26811511a21",
        "rgb": [
         25.118061674008803,
         73.60176211453744,
         107.4819383259912
        ]
       }
      },
      "rules": {
       "blockquote": {
        "color": "50f92c45-a630-455b-aec3-788680ec7410"
       },
       "code": {
        "font-family": "Anonymous Pro"
       },
       "h1": {
        "color": "c5cc3653-2ee1-402a-aba2-7caae1da4f6c",
        "font-family": "Lato",
        "font-size": 8
       },
       "h2": {
        "color": "c5cc3653-2ee1-402a-aba2-7caae1da4f6c",
        "font-family": "Lato",
        "font-size": 6
       },
       "h3": {
        "color": "50f92c45-a630-455b-aec3-788680ec7410",
        "font-family": "Lato",
        "font-size": 5.5
       },
       "h4": {
        "color": "c5cc3653-2ee1-402a-aba2-7caae1da4f6c",
        "font-family": "Lato",
        "font-size": 5
       },
       "h5": {
        "font-family": "Lato"
       },
       "h6": {
        "font-family": "Lato"
       },
       "h7": {
        "font-family": "Lato"
       },
       "pre": {
        "font-family": "Anonymous Pro",
        "font-size": 4
       }
      },
      "text-base": {
       "font-family": "Merriweather",
       "font-size": 4
      }
     },
     "8da1d15f-6859-4401-8275-c0feb348cba5": {
      "backgrounds": {
       "dc7afa04-bf90-40b1-82a5-726e3cff5267": {
        "background-color": "31af15d2-7e15-44c5-ab5e-e04b16a89eff",
        "id": "dc7afa04-bf90-40b1-82a5-726e3cff5267"
       }
      },
      "id": "8da1d15f-6859-4401-8275-c0feb348cba5",
      "palette": {
       "19cc588f-0593-49c9-9f4b-e4d7cc113b1c": {
        "id": "19cc588f-0593-49c9-9f4b-e4d7cc113b1c",
        "rgb": [
         252,
         252,
         252
        ]
       },
       "31af15d2-7e15-44c5-ab5e-e04b16a89eff": {
        "id": "31af15d2-7e15-44c5-ab5e-e04b16a89eff",
        "rgb": [
         68,
         68,
         68
        ]
       },
       "50f92c45-a630-455b-aec3-788680ec7410": {
        "id": "50f92c45-a630-455b-aec3-788680ec7410",
        "rgb": [
         197,
         226,
         245
        ]
       },
       "c5cc3653-2ee1-402a-aba2-7caae1da4f6c": {
        "id": "c5cc3653-2ee1-402a-aba2-7caae1da4f6c",
        "rgb": [
         43,
         126,
         184
        ]
       },
       "efa7f048-9acb-414c-8b04-a26811511a21": {
        "id": "efa7f048-9acb-414c-8b04-a26811511a21",
        "rgb": [
         25.118061674008803,
         73.60176211453744,
         107.4819383259912
        ]
       }
      },
      "rules": {
       "a": {
        "color": "19cc588f-0593-49c9-9f4b-e4d7cc113b1c"
       },
       "blockquote": {
        "color": "50f92c45-a630-455b-aec3-788680ec7410",
        "font-size": 3
       },
       "code": {
        "font-family": "Anonymous Pro"
       },
       "h1": {
        "color": "19cc588f-0593-49c9-9f4b-e4d7cc113b1c",
        "font-family": "Merriweather",
        "font-size": 8
       },
       "h2": {
        "color": "19cc588f-0593-49c9-9f4b-e4d7cc113b1c",
        "font-family": "Merriweather",
        "font-size": 6
       },
       "h3": {
        "color": "50f92c45-a630-455b-aec3-788680ec7410",
        "font-family": "Lato",
        "font-size": 5.5
       },
       "h4": {
        "color": "c5cc3653-2ee1-402a-aba2-7caae1da4f6c",
        "font-family": "Lato",
        "font-size": 5
       },
       "h5": {
        "font-family": "Lato"
       },
       "h6": {
        "font-family": "Lato"
       },
       "h7": {
        "font-family": "Lato"
       },
       "li": {
        "color": "50f92c45-a630-455b-aec3-788680ec7410",
        "font-size": 3.25
       },
       "pre": {
        "font-family": "Anonymous Pro",
        "font-size": 4
       }
      },
      "text-base": {
       "color": "19cc588f-0593-49c9-9f4b-e4d7cc113b1c",
       "font-family": "Lato",
       "font-size": 4
      }
     }
    }
   }
  }
 },
 "nbformat": 4,
 "nbformat_minor": 1
}
